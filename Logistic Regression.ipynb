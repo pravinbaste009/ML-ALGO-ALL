{
 "cells": [
  {
   "cell_type": "code",
   "execution_count": 3,
   "id": "b7c3d977",
   "metadata": {},
   "outputs": [],
   "source": [
    "#Data Pre-procesing Step  \n",
    "# importing libraries  \n",
    "import numpy as nm  \n",
    "import matplotlib.pyplot as mtp  \n",
    "import pandas as pd  \n",
    "  "
   ]
  },
  {
   "cell_type": "code",
   "execution_count": 4,
   "id": "c3e8ae39",
   "metadata": {},
   "outputs": [],
   "source": [
    "#importing datasets  \n",
    "data_set= pd.read_csv('user_data.csv')  "
   ]
  },
  {
   "cell_type": "code",
   "execution_count": 5,
   "id": "18469e2f",
   "metadata": {},
   "outputs": [],
   "source": [
    "#Extracting Independent and dependent Variable  \n",
    "x= data_set.iloc[:, [2,3]].values  \n",
    "y= data_set.iloc[:, 4].values "
   ]
  },
  {
   "cell_type": "code",
   "execution_count": 6,
   "id": "4a0802e7",
   "metadata": {},
   "outputs": [],
   "source": [
    "# Splitting the dataset into training and test set.  \n",
    "from sklearn.model_selection import train_test_split  \n",
    "x_train, x_test, y_train, y_test= train_test_split(x, y, test_size= 0.25, random_state=0)  "
   ]
  },
  {
   "cell_type": "code",
   "execution_count": 7,
   "id": "7aba5a43",
   "metadata": {},
   "outputs": [],
   "source": [
    "#feature Scaling  \n",
    "from sklearn.preprocessing import StandardScaler    \n",
    "st_x= StandardScaler()    \n",
    "x_train= st_x.fit_transform(x_train)    \n",
    "x_test= st_x.transform(x_test)  "
   ]
  },
  {
   "cell_type": "code",
   "execution_count": 8,
   "id": "e2829d05",
   "metadata": {},
   "outputs": [
    {
     "data": {
      "text/plain": [
       "LogisticRegression(random_state=0)"
      ]
     },
     "execution_count": 8,
     "metadata": {},
     "output_type": "execute_result"
    }
   ],
   "source": [
    "#Fitting Logistic Regression to the training set  \n",
    "from sklearn.linear_model import LogisticRegression  \n",
    "classifier= LogisticRegression(random_state=0)  \n",
    "classifier.fit(x_train, y_train)  "
   ]
  },
  {
   "cell_type": "code",
   "execution_count": 9,
   "id": "c64468b0",
   "metadata": {},
   "outputs": [
    {
     "data": {
      "text/plain": [
       "LogisticRegression(multi_class='warn', random_state=0, solver='warn')"
      ]
     },
     "execution_count": 9,
     "metadata": {},
     "output_type": "execute_result"
    }
   ],
   "source": [
    "LogisticRegression(C=1.0, class_weight=None, dual=False, fit_intercept=True,  \n",
    "                   intercept_scaling=1, l1_ratio=None, max_iter=100,  \n",
    "                   multi_class='warn', n_jobs=None, penalty='l2',  \n",
    "                   random_state=0, solver='warn', tol=0.0001, verbose=0,  \n",
    "                   warm_start=False)  "
   ]
  },
  {
   "cell_type": "code",
   "execution_count": 10,
   "id": "ebc9103b",
   "metadata": {},
   "outputs": [],
   "source": [
    "#Predicting the test set result  \n",
    "y_pred= classifier.predict(x_test)  "
   ]
  },
  {
   "cell_type": "code",
   "execution_count": 11,
   "id": "edfa49ec",
   "metadata": {},
   "outputs": [],
   "source": [
    "#Predicting the test set result  \n",
    "y_pred= classifier.predict(x_test)  "
   ]
  },
  {
   "cell_type": "code",
   "execution_count": 12,
   "id": "8109af3d",
   "metadata": {},
   "outputs": [],
   "source": [
    "#Creating the Confusion matrix  \n",
    "from sklearn.metrics import confusion_matrix  \n",
    "cm= confusion_matrix(y_test,y_pred)  "
   ]
  },
  {
   "cell_type": "code",
   "execution_count": 13,
   "id": "1ecd16f1",
   "metadata": {},
   "outputs": [
    {
     "name": "stdout",
     "output_type": "stream",
     "text": [
      "[[65  3]\n",
      " [ 8 24]]\n"
     ]
    }
   ],
   "source": [
    "print(cm)"
   ]
  },
  {
   "cell_type": "code",
   "execution_count": 14,
   "id": "e00e6d2f",
   "metadata": {},
   "outputs": [
    {
     "name": "stderr",
     "output_type": "stream",
     "text": [
      "*c* argument looks like a single numeric RGB or RGBA sequence, which should be avoided as value-mapping will have precedence in case its length matches with *x* & *y*.  Please use the *color* keyword-argument or provide a 2-D array with a single row if you intend to specify the same RGB or RGBA value for all points.\n",
      "*c* argument looks like a single numeric RGB or RGBA sequence, which should be avoided as value-mapping will have precedence in case its length matches with *x* & *y*.  Please use the *color* keyword-argument or provide a 2-D array with a single row if you intend to specify the same RGB or RGBA value for all points.\n"
     ]
    },
    {
     "data": {
      "image/png": "[encoded data removed]",
      "text/plain": [
       "<Figure size 432x288 with 1 Axes>"
      ]
     },
     "metadata": {
      "needs_background": "light"
     },
     "output_type": "display_data"
    }
   ],
   "source": [
    "#Visualizing the training set result  \n",
    "from matplotlib.colors import ListedColormap  \n",
    "x_set, y_set = x_train, y_train  \n",
    "x1, x2 = nm.meshgrid(nm.arange(start = x_set[:, 0].min() - 1, stop = x_set[:, 0].max() + 1, step  =0.01),  \n",
    "nm.arange(start = x_set[:, 1].min() - 1, stop = x_set[:, 1].max() + 1, step = 0.01))  \n",
    "mtp.contourf(x1, x2, classifier.predict(nm.array([x1.ravel(), x2.ravel()]).T).reshape(x1.shape),  \n",
    "alpha = 0.75, cmap = ListedColormap(('purple','green' )))  \n",
    "mtp.xlim(x1.min(), x1.max())  \n",
    "mtp.ylim(x2.min(), x2.max())  \n",
    "for i, j in enumerate(nm.unique(y_set)):  \n",
    "    mtp.scatter(x_set[y_set == j, 0], x_set[y_set == j, 1],  \n",
    "        c = ListedColormap(('purple', 'green'))(i), label = j)  \n",
    "mtp.title('Logistic Regression (Training set)')  \n",
    "mtp.xlabel('Age')  \n",
    "mtp.ylabel('Estimated Salary')  \n",
    "mtp.legend()  \n",
    "mtp.show()  "
   ]
  },
  {
   "cell_type": "code",
   "execution_count": 15,
   "id": "9c123516",
   "metadata": {},
   "outputs": [
    {
     "name": "stderr",
     "output_type": "stream",
     "text": [
      "*c* argument looks like a single numeric RGB or RGBA sequence, which should be avoided as value-mapping will have precedence in case its length matches with *x* & *y*.  Please use the *color* keyword-argument or provide a 2-D array with a single row if you intend to specify the same RGB or RGBA value for all points.\n",
      "*c* argument looks like a single numeric RGB or RGBA sequence, which should be avoided as value-mapping will have precedence in case its length matches with *x* & *y*.  Please use the *color* keyword-argument or provide a 2-D array with a single row if you intend to specify the same RGB or RGBA value for all points.\n"
     ]
    },
    {
     "data": {
      "image/png": "[encoded data removed]",
      "text/plain": [
       "<Figure size 432x288 with 1 Axes>"
      ]
     },
     "metadata": {
      "needs_background": "light"
     },
     "output_type": "display_data"
    }
   ],
   "source": [
    "#Visulaizing the test set result  \n",
    "from matplotlib.colors import ListedColormap  \n",
    "x_set, y_set = x_test, y_test  \n",
    "x1, x2 = nm.meshgrid(nm.arange(start = x_set[:, 0].min() - 1, stop = x_set[:, 0].max() + 1, step  =0.01),  \n",
    "nm.arange(start = x_set[:, 1].min() - 1, stop = x_set[:, 1].max() + 1, step = 0.01))  \n",
    "mtp.contourf(x1, x2, classifier.predict(nm.array([x1.ravel(), x2.ravel()]).T).reshape(x1.shape),  \n",
    "alpha = 0.75, cmap = ListedColormap(('purple','green' )))  \n",
    "mtp.xlim(x1.min(), x1.max())  \n",
    "mtp.ylim(x2.min(), x2.max())  \n",
    "for i, j in enumerate(nm.unique(y_set)):  \n",
    "    mtp.scatter(x_set[y_set == j, 0], x_set[y_set == j, 1],  \n",
    "        c = ListedColormap(('purple', 'green'))(i), label = j)  \n",
    "mtp.title('Logistic Regression (Test set)')  \n",
    "mtp.xlabel('Age')  \n",
    "mtp.ylabel('Estimated Salary')  \n",
    "mtp.legend()  \n",
    "mtp.show()  "
   ]
  },
  {
   "cell_type": "code",
   "execution_count": 16,
   "id": "49ab952d",
   "metadata": {},
   "outputs": [
    {
     "data": {
      "text/plain": [
       "0.89"
      ]
     },
     "execution_count": 16,
     "metadata": {},
     "output_type": "execute_result"
    }
   ],
   "source": [
    "from sklearn.metrics import accuracy_score\n",
    "accuracy_score(y_test, y_pred)"
   ]
  },
  {
   "cell_type": "code",
   "execution_count": null,
   "id": "4e197396",
   "metadata": {},
   "outputs": [],
   "source": []
  }
 ],
 "metadata": {
  "kernelspec": {
   "display_name": "Python 3",
   "language": "python",
   "name": "python3"
  },
  "language_info": {
   "codemirror_mode": {
    "name": "ipython",
    "version": 3
   },
   "file_extension": ".py",
   "mimetype": "text/x-python",
   "name": "python",
   "nbconvert_exporter": "python",
   "pygments_lexer": "ipython3",
   "version": "3.7.10"
  }
 },
 "nbformat": 4,
 "nbformat_minor": 5
}
