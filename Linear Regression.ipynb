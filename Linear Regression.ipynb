{
 "cells": [
  {
   "cell_type": "code",
   "execution_count": 65,
   "id": "0387201e",
   "metadata": {},
   "outputs": [],
   "source": [
    "# import all import library\n",
    "import numpy as np\n",
    "import pandas as pd\n",
    "import seaborn as sns\n",
    "import matplotlib.pyplot as plt"
   ]
  },
  {
   "cell_type": "code",
   "execution_count": null,
   "id": "6e325923",
   "metadata": {},
   "outputs": [],
   "source": [
    "# "
   ]
  },
  {
   "cell_type": "code",
   "execution_count": 181,
   "id": "56d9257c",
   "metadata": {},
   "outputs": [],
   "source": [
    "# lets create dataset (dataframe) \n",
    "# dict {key:values},list [],tuple ()\n",
    "data = {'x':[43,21,25,42,57,59],\n",
    "        'y':[99,65,79,75,87,81] }"
   ]
  },
  {
   "cell_type": "code",
   "execution_count": 182,
   "id": "99c80a1b",
   "metadata": {},
   "outputs": [
    {
     "data": {
      "text/plain": [
       "{'x': [43, 21, 25, 42, 57, 59], 'y': [99, 65, 79, 75, 87, 81]}"
      ]
     },
     "execution_count": 182,
     "metadata": {},
     "output_type": "execute_result"
    }
   ],
   "source": [
    "data"
   ]
  },
  {
   "cell_type": "code",
   "execution_count": 183,
   "id": "1a942933",
   "metadata": {},
   "outputs": [
    {
     "data": {
      "text/plain": [
       "dict"
      ]
     },
     "execution_count": 183,
     "metadata": {},
     "output_type": "execute_result"
    }
   ],
   "source": [
    "type(data)"
   ]
  },
  {
   "cell_type": "code",
   "execution_count": 184,
   "id": "d781bb49",
   "metadata": {},
   "outputs": [],
   "source": [
    "# now convert into dataframe\n",
    "# dataframe represt rows and columns in table\n",
    "df = pd.DataFrame(data)"
   ]
  },
  {
   "cell_type": "code",
   "execution_count": 180,
   "id": "f0b4469a",
   "metadata": {},
   "outputs": [
    {
     "data": {
      "text/html": [
       "<div>\n",
       "<style scoped>\n",
       "    .dataframe tbody tr th:only-of-type {\n",
       "        vertical-align: middle;\n",
       "    }\n",
       "\n",
       "    .dataframe tbody tr th {\n",
       "        vertical-align: top;\n",
       "    }\n",
       "\n",
       "    .dataframe thead th {\n",
       "        text-align: right;\n",
       "    }\n",
       "</style>\n",
       "<table border=\"1\" class=\"dataframe\">\n",
       "  <thead>\n",
       "    <tr style=\"text-align: right;\">\n",
       "      <th></th>\n",
       "      <th>x</th>\n",
       "      <th>y</th>\n",
       "    </tr>\n",
       "  </thead>\n",
       "  <tbody>\n",
       "    <tr>\n",
       "      <th>0</th>\n",
       "      <td>43</td>\n",
       "      <td>99</td>\n",
       "    </tr>\n",
       "    <tr>\n",
       "      <th>1</th>\n",
       "      <td>21</td>\n",
       "      <td>65</td>\n",
       "    </tr>\n",
       "    <tr>\n",
       "      <th>2</th>\n",
       "      <td>25</td>\n",
       "      <td>79</td>\n",
       "    </tr>\n",
       "    <tr>\n",
       "      <th>3</th>\n",
       "      <td>42</td>\n",
       "      <td>75</td>\n",
       "    </tr>\n",
       "    <tr>\n",
       "      <th>4</th>\n",
       "      <td>57</td>\n",
       "      <td>87</td>\n",
       "    </tr>\n",
       "    <tr>\n",
       "      <th>5</th>\n",
       "      <td>59</td>\n",
       "      <td>81</td>\n",
       "    </tr>\n",
       "    <tr>\n",
       "      <th>6</th>\n",
       "      <td>43</td>\n",
       "      <td>65</td>\n",
       "    </tr>\n",
       "  </tbody>\n",
       "</table>\n",
       "</div>"
      ],
      "text/plain": [
       "    x   y\n",
       "0  43  99\n",
       "1  21  65\n",
       "2  25  79\n",
       "3  42  75\n",
       "4  57  87\n",
       "5  59  81\n",
       "6  43  65"
      ]
     },
     "execution_count": 180,
     "metadata": {},
     "output_type": "execute_result"
    }
   ],
   "source": [
    "df"
   ]
  },
  {
   "cell_type": "code",
   "execution_count": 70,
   "id": "4bdbd7f4",
   "metadata": {},
   "outputs": [
    {
     "data": {
      "text/plain": [
       "pandas.core.frame.DataFrame"
      ]
     },
     "execution_count": 70,
     "metadata": {},
     "output_type": "execute_result"
    }
   ],
   "source": [
    "# now check type \n",
    "type(df)"
   ]
  },
  {
   "cell_type": "code",
   "execution_count": 71,
   "id": "4e6b2d0a",
   "metadata": {},
   "outputs": [
    {
     "data": {
      "text/plain": [
       "(6, 2)"
      ]
     },
     "execution_count": 71,
     "metadata": {},
     "output_type": "execute_result"
    }
   ],
   "source": [
    "# lets check shape of dataset\n",
    "df.shape"
   ]
  },
  {
   "cell_type": "code",
   "execution_count": 72,
   "id": "691b4cac",
   "metadata": {},
   "outputs": [
    {
     "name": "stdout",
     "output_type": "stream",
     "text": [
      "<class 'pandas.core.frame.DataFrame'>\n",
      "RangeIndex: 6 entries, 0 to 5\n",
      "Data columns (total 2 columns):\n",
      " #   Column  Non-Null Count  Dtype\n",
      "---  ------  --------------  -----\n",
      " 0   x       6 non-null      int64\n",
      " 1   y       6 non-null      int64\n",
      "dtypes: int64(2)\n",
      "memory usage: 224.0 bytes\n"
     ]
    }
   ],
   "source": [
    "# check info about data\n",
    "# it will return us datatypes and count (rows)\n",
    "df.info()"
   ]
  },
  {
   "cell_type": "raw",
   "id": "bd3c51f2",
   "metadata": {},
   "source": [
    "# Descriptive statistics include those that summarize the \n",
    "1. central tendency\n",
    "2. dispersion  \n",
    "3. shape of a dataset’s distribution, \n",
    "excluding NaN values"
   ]
  },
  {
   "cell_type": "code",
   "execution_count": 173,
   "id": "cec057ff",
   "metadata": {},
   "outputs": [
    {
     "data": {
      "text/html": [
       "<div>\n",
       "<style scoped>\n",
       "    .dataframe tbody tr th:only-of-type {\n",
       "        vertical-align: middle;\n",
       "    }\n",
       "\n",
       "    .dataframe tbody tr th {\n",
       "        vertical-align: top;\n",
       "    }\n",
       "\n",
       "    .dataframe thead th {\n",
       "        text-align: right;\n",
       "    }\n",
       "</style>\n",
       "<table border=\"1\" class=\"dataframe\">\n",
       "  <thead>\n",
       "    <tr style=\"text-align: right;\">\n",
       "      <th></th>\n",
       "      <th>x</th>\n",
       "      <th>y</th>\n",
       "    </tr>\n",
       "  </thead>\n",
       "  <tbody>\n",
       "    <tr>\n",
       "      <th>count</th>\n",
       "      <td>6.000000</td>\n",
       "      <td>6.000000</td>\n",
       "    </tr>\n",
       "    <tr>\n",
       "      <th>mean</th>\n",
       "      <td>41.166667</td>\n",
       "      <td>81.000000</td>\n",
       "    </tr>\n",
       "    <tr>\n",
       "      <th>std</th>\n",
       "      <td>15.753307</td>\n",
       "      <td>11.454257</td>\n",
       "    </tr>\n",
       "    <tr>\n",
       "      <th>min</th>\n",
       "      <td>21.000000</td>\n",
       "      <td>65.000000</td>\n",
       "    </tr>\n",
       "    <tr>\n",
       "      <th>25%</th>\n",
       "      <td>29.250000</td>\n",
       "      <td>76.000000</td>\n",
       "    </tr>\n",
       "    <tr>\n",
       "      <th>50%</th>\n",
       "      <td>42.500000</td>\n",
       "      <td>80.000000</td>\n",
       "    </tr>\n",
       "    <tr>\n",
       "      <th>75%</th>\n",
       "      <td>53.500000</td>\n",
       "      <td>85.500000</td>\n",
       "    </tr>\n",
       "    <tr>\n",
       "      <th>max</th>\n",
       "      <td>59.000000</td>\n",
       "      <td>99.000000</td>\n",
       "    </tr>\n",
       "  </tbody>\n",
       "</table>\n",
       "</div>"
      ],
      "text/plain": [
       "               x          y\n",
       "count   6.000000   6.000000\n",
       "mean   41.166667  81.000000\n",
       "std    15.753307  11.454257\n",
       "min    21.000000  65.000000\n",
       "25%    29.250000  76.000000\n",
       "50%    42.500000  80.000000\n",
       "75%    53.500000  85.500000\n",
       "max    59.000000  99.000000"
      ]
     },
     "execution_count": 173,
     "metadata": {},
     "output_type": "execute_result"
    }
   ],
   "source": [
    "df.describe()"
   ]
  },
  {
   "cell_type": "markdown",
   "id": "58907047",
   "metadata": {},
   "source": [
    "## Measure of Central Tendency"
   ]
  },
  {
   "cell_type": "markdown",
   "id": "03ac36bb",
   "metadata": {},
   "source": [
    "Measure of central tendency is used to describe the middle/center value of the data.\n",
    "Mean, Median, Mode are measures of central tendency."
   ]
  },
  {
   "cell_type": "code",
   "execution_count": 73,
   "id": "5e06d9c7",
   "metadata": {},
   "outputs": [
    {
     "data": {
      "text/plain": [
       "41.166666666666664"
      ]
     },
     "execution_count": 73,
     "metadata": {},
     "output_type": "execute_result"
    }
   ],
   "source": [
    "# Mean for x\n",
    "df['x'].mean()"
   ]
  },
  {
   "cell_type": "code",
   "execution_count": 74,
   "id": "f4c884f4",
   "metadata": {},
   "outputs": [
    {
     "data": {
      "text/plain": [
       "81.0"
      ]
     },
     "execution_count": 74,
     "metadata": {},
     "output_type": "execute_result"
    }
   ],
   "source": [
    "# Mean for y\n",
    "df['y'].mean()"
   ]
  },
  {
   "cell_type": "code",
   "execution_count": 75,
   "id": "f26a36fd",
   "metadata": {},
   "outputs": [
    {
     "data": {
      "text/plain": [
       "42.5"
      ]
     },
     "execution_count": 75,
     "metadata": {},
     "output_type": "execute_result"
    }
   ],
   "source": [
    "# Median for x\n",
    "df['x'].median()"
   ]
  },
  {
   "cell_type": "code",
   "execution_count": 76,
   "id": "f51c3d34",
   "metadata": {},
   "outputs": [
    {
     "data": {
      "text/plain": [
       "80.0"
      ]
     },
     "execution_count": 76,
     "metadata": {},
     "output_type": "execute_result"
    }
   ],
   "source": [
    "# Median for y\n",
    "df['y'].median()"
   ]
  },
  {
   "cell_type": "code",
   "execution_count": 178,
   "id": "306ba9d7",
   "metadata": {},
   "outputs": [
    {
     "data": {
      "text/plain": [
       "0    43\n",
       "dtype: int64"
      ]
     },
     "execution_count": 178,
     "metadata": {},
     "output_type": "execute_result"
    }
   ],
   "source": [
    "# Mode for x\n",
    "df['x'].mode()"
   ]
  },
  {
   "cell_type": "code",
   "execution_count": 179,
   "id": "bea478b1",
   "metadata": {},
   "outputs": [
    {
     "data": {
      "text/plain": [
       "0    65\n",
       "dtype: int64"
      ]
     },
     "execution_count": 179,
     "metadata": {},
     "output_type": "execute_result"
    }
   ],
   "source": [
    "# Mode for y\n",
    "df['y'].mode()"
   ]
  },
  {
   "cell_type": "code",
   "execution_count": 79,
   "id": "d40d8769",
   "metadata": {},
   "outputs": [
    {
     "name": "stderr",
     "output_type": "stream",
     "text": [
      "C:\\Users\\pravi\\AppData\\Roaming\\Python\\Python37\\site-packages\\seaborn\\distributions.py:2557: FutureWarning: `distplot` is a deprecated function and will be removed in a future version. Please adapt your code to use either `displot` (a figure-level function with similar flexibility) or `histplot` (an axes-level function for histograms).\n",
      "  warnings.warn(msg, FutureWarning)\n"
     ]
    },
    {
     "data": {
      "image/png": "[encoded data removed]",
      "text/plain": [
       "<Figure size 432x288 with 1 Axes>"
      ]
     },
     "metadata": {
      "needs_background": "light"
     },
     "output_type": "display_data"
    }
   ],
   "source": [
    "#sns.displot(df['x'], x=\"X\")\n",
    "sns.distplot(df['x'])\n",
    "plt.show()"
   ]
  },
  {
   "cell_type": "code",
   "execution_count": 80,
   "id": "82ee1d91",
   "metadata": {},
   "outputs": [
    {
     "name": "stderr",
     "output_type": "stream",
     "text": [
      "C:\\Users\\pravi\\AppData\\Roaming\\Python\\Python37\\site-packages\\seaborn\\distributions.py:2557: FutureWarning: `distplot` is a deprecated function and will be removed in a future version. Please adapt your code to use either `displot` (a figure-level function with similar flexibility) or `histplot` (an axes-level function for histograms).\n",
      "  warnings.warn(msg, FutureWarning)\n"
     ]
    },
    {
     "data": {
      "image/png": "[encoded data removed]",
      "text/plain": [
       "<Figure size 432x288 with 1 Axes>"
      ]
     },
     "metadata": {
      "needs_background": "light"
     },
     "output_type": "display_data"
    }
   ],
   "source": [
    "#sns.displot(df['x'], x=\"X\")\n",
    "sns.distplot(df['y'])\n",
    "plt.show()"
   ]
  },
  {
   "cell_type": "markdown",
   "id": "196ea1cd",
   "metadata": {},
   "source": [
    "## Measure of spread\n"
   ]
  },
  {
   "cell_type": "markdown",
   "id": "d219f379",
   "metadata": {},
   "source": [
    "The measure of spread/dispersion is used to describe how data is spread. It also describes the variability of the dataset.\n",
    "Standard Deviation, Variance, Range, IQR, are used to describe the measure of spread/dispersion\n",
    "The measure of spread can be shown in graphs like boxplot."
   ]
  },
  {
   "cell_type": "markdown",
   "id": "a9bd5dc6",
   "metadata": {},
   "source": [
    "## 1.Variance\n",
    "Variance is used to describe how far each number in the dataset is from the mean."
   ]
  },
  {
   "cell_type": "code",
   "execution_count": 81,
   "id": "6f749422",
   "metadata": {},
   "outputs": [
    {
     "data": {
      "text/plain": [
       "248.16666666666666"
      ]
     },
     "execution_count": 81,
     "metadata": {},
     "output_type": "execute_result"
    }
   ],
   "source": [
    "# variance for x\n",
    "df['x'].var()"
   ]
  },
  {
   "cell_type": "code",
   "execution_count": 82,
   "id": "7c25ef5f",
   "metadata": {},
   "outputs": [
    {
     "data": {
      "text/plain": [
       "131.2"
      ]
     },
     "execution_count": 82,
     "metadata": {},
     "output_type": "execute_result"
    }
   ],
   "source": [
    "# variance for y\n",
    "df['y'].var()"
   ]
  },
  {
   "cell_type": "markdown",
   "id": "153bc2e2",
   "metadata": {},
   "source": [
    "## 2.Standard Deviation\n",
    "Standard Deviation is the measure of the spread of data from the mean."
   ]
  },
  {
   "cell_type": "code",
   "execution_count": 83,
   "id": "d6d6b2c7",
   "metadata": {},
   "outputs": [
    {
     "data": {
      "text/plain": [
       "15.753306531222792"
      ]
     },
     "execution_count": 83,
     "metadata": {},
     "output_type": "execute_result"
    }
   ],
   "source": [
    "# standard deviaiton for x\n",
    "df['x'].std()"
   ]
  },
  {
   "cell_type": "code",
   "execution_count": 84,
   "id": "4c6cd045",
   "metadata": {},
   "outputs": [
    {
     "data": {
      "text/plain": [
       "11.454256850621082"
      ]
     },
     "execution_count": 84,
     "metadata": {},
     "output_type": "execute_result"
    }
   ],
   "source": [
    "# standard deviaiton for y\n",
    "df['y'].std()"
   ]
  },
  {
   "cell_type": "markdown",
   "id": "e5ab4ea3",
   "metadata": {},
   "source": [
    "## 3.Range\n",
    "The range is the difference between the largest number and the smallest number"
   ]
  },
  {
   "cell_type": "code",
   "execution_count": 85,
   "id": "2f5aca97",
   "metadata": {},
   "outputs": [
    {
     "data": {
      "text/plain": [
       "21"
      ]
     },
     "execution_count": 85,
     "metadata": {},
     "output_type": "execute_result"
    }
   ],
   "source": [
    "# min value for x\n",
    "df['x'].min()"
   ]
  },
  {
   "cell_type": "code",
   "execution_count": 86,
   "id": "3d015835",
   "metadata": {},
   "outputs": [
    {
     "data": {
      "text/plain": [
       "59"
      ]
     },
     "execution_count": 86,
     "metadata": {},
     "output_type": "execute_result"
    }
   ],
   "source": [
    "# max value for x\n",
    "df['x'].max()"
   ]
  },
  {
   "cell_type": "code",
   "execution_count": 87,
   "id": "494e3848",
   "metadata": {},
   "outputs": [
    {
     "data": {
      "text/plain": [
       "65"
      ]
     },
     "execution_count": 87,
     "metadata": {},
     "output_type": "execute_result"
    }
   ],
   "source": [
    "# min value for y\n",
    "df['y'].min()"
   ]
  },
  {
   "cell_type": "code",
   "execution_count": 88,
   "id": "c8262542",
   "metadata": {},
   "outputs": [
    {
     "data": {
      "text/plain": [
       "99"
      ]
     },
     "execution_count": 88,
     "metadata": {},
     "output_type": "execute_result"
    }
   ],
   "source": [
    "# min value for y\n",
    "df['y'].max()"
   ]
  },
  {
   "cell_type": "markdown",
   "id": "7dc56606",
   "metadata": {},
   "source": [
    "## 4. Interquartile range (IQR)\n",
    "Quartiles describe the spread of data by breaking into quarters. The median exactly divides the data into two parts.\n",
    "- Q1(Lower quartile) is the middle value in the first half of the sorted dataset.\n",
    "- Q2– is the median value\n",
    "- Q3 (Upper quartile) is the middle value in the second half of the sorted dataset\n",
    "The interquartile range is the difference between the 75th percentile(Q3) and the 25th percentile(Q1).\n",
    "50% of data fall within this range."
   ]
  },
  {
   "cell_type": "code",
   "execution_count": 89,
   "id": "7f26e1bf",
   "metadata": {},
   "outputs": [
    {
     "data": {
      "text/plain": [
       "29.25"
      ]
     },
     "execution_count": 89,
     "metadata": {},
     "output_type": "execute_result"
    }
   ],
   "source": [
    "# 25 percentile of x\n",
    "df[\"x\"].quantile(0.25)"
   ]
  },
  {
   "cell_type": "code",
   "execution_count": 90,
   "id": "5c4dd43b",
   "metadata": {},
   "outputs": [
    {
     "data": {
      "text/plain": [
       "53.5"
      ]
     },
     "execution_count": 90,
     "metadata": {},
     "output_type": "execute_result"
    }
   ],
   "source": [
    "# 75 percentile of x\n",
    "df[\"x\"].quantile(0.75)"
   ]
  },
  {
   "cell_type": "code",
   "execution_count": 91,
   "id": "c788f51f",
   "metadata": {},
   "outputs": [
    {
     "data": {
      "text/plain": [
       "76.0"
      ]
     },
     "execution_count": 91,
     "metadata": {},
     "output_type": "execute_result"
    }
   ],
   "source": [
    "# 25 percentile of y\n",
    "df[\"y\"].quantile(0.25)"
   ]
  },
  {
   "cell_type": "code",
   "execution_count": 92,
   "id": "f9f8deed",
   "metadata": {},
   "outputs": [
    {
     "data": {
      "text/plain": [
       "85.5"
      ]
     },
     "execution_count": 92,
     "metadata": {},
     "output_type": "execute_result"
    }
   ],
   "source": [
    "# 75 percentile of y\n",
    "df[\"y\"].quantile(0.75)"
   ]
  },
  {
   "cell_type": "code",
   "execution_count": 93,
   "id": "b740e76b",
   "metadata": {},
   "outputs": [
    {
     "data": {
      "text/plain": [
       "<AxesSubplot:xlabel='x'>"
      ]
     },
     "execution_count": 93,
     "metadata": {},
     "output_type": "execute_result"
    },
    {
     "data": {
      "image/png": "[encoded data removed]",
      "text/plain": [
       "<Figure size 432x288 with 1 Axes>"
      ]
     },
     "metadata": {
      "needs_background": "light"
     },
     "output_type": "display_data"
    }
   ],
   "source": [
    "# box plot for x\n",
    "sns.boxplot(x=\"x\",data=df)"
   ]
  },
  {
   "cell_type": "code",
   "execution_count": 94,
   "id": "e677c82d",
   "metadata": {},
   "outputs": [
    {
     "data": {
      "text/plain": [
       "<AxesSubplot:xlabel='y'>"
      ]
     },
     "execution_count": 94,
     "metadata": {},
     "output_type": "execute_result"
    },
    {
     "data": {
      "image/png": "[encoded data removed]",
      "text/plain": [
       "<Figure size 432x288 with 1 Axes>"
      ]
     },
     "metadata": {
      "needs_background": "light"
     },
     "output_type": "display_data"
    }
   ],
   "source": [
    "# box plot for y\n",
    "sns.boxplot(x=\"y\",data=df)"
   ]
  },
  {
   "cell_type": "code",
   "execution_count": null,
   "id": "146a6c41",
   "metadata": {},
   "outputs": [],
   "source": []
  },
  {
   "cell_type": "code",
   "execution_count": 95,
   "id": "d0201818",
   "metadata": {},
   "outputs": [
    {
     "data": {
      "text/html": [
       "<div>\n",
       "<style scoped>\n",
       "    .dataframe tbody tr th:only-of-type {\n",
       "        vertical-align: middle;\n",
       "    }\n",
       "\n",
       "    .dataframe tbody tr th {\n",
       "        vertical-align: top;\n",
       "    }\n",
       "\n",
       "    .dataframe thead th {\n",
       "        text-align: right;\n",
       "    }\n",
       "</style>\n",
       "<table border=\"1\" class=\"dataframe\">\n",
       "  <thead>\n",
       "    <tr style=\"text-align: right;\">\n",
       "      <th></th>\n",
       "      <th>x</th>\n",
       "      <th>y</th>\n",
       "    </tr>\n",
       "  </thead>\n",
       "  <tbody>\n",
       "    <tr>\n",
       "      <th>count</th>\n",
       "      <td>6.000000</td>\n",
       "      <td>6.000000</td>\n",
       "    </tr>\n",
       "    <tr>\n",
       "      <th>mean</th>\n",
       "      <td>41.166667</td>\n",
       "      <td>81.000000</td>\n",
       "    </tr>\n",
       "    <tr>\n",
       "      <th>std</th>\n",
       "      <td>15.753307</td>\n",
       "      <td>11.454257</td>\n",
       "    </tr>\n",
       "    <tr>\n",
       "      <th>min</th>\n",
       "      <td>21.000000</td>\n",
       "      <td>65.000000</td>\n",
       "    </tr>\n",
       "    <tr>\n",
       "      <th>25%</th>\n",
       "      <td>29.250000</td>\n",
       "      <td>76.000000</td>\n",
       "    </tr>\n",
       "    <tr>\n",
       "      <th>50%</th>\n",
       "      <td>42.500000</td>\n",
       "      <td>80.000000</td>\n",
       "    </tr>\n",
       "    <tr>\n",
       "      <th>75%</th>\n",
       "      <td>53.500000</td>\n",
       "      <td>85.500000</td>\n",
       "    </tr>\n",
       "    <tr>\n",
       "      <th>max</th>\n",
       "      <td>59.000000</td>\n",
       "      <td>99.000000</td>\n",
       "    </tr>\n",
       "  </tbody>\n",
       "</table>\n",
       "</div>"
      ],
      "text/plain": [
       "               x          y\n",
       "count   6.000000   6.000000\n",
       "mean   41.166667  81.000000\n",
       "std    15.753307  11.454257\n",
       "min    21.000000  65.000000\n",
       "25%    29.250000  76.000000\n",
       "50%    42.500000  80.000000\n",
       "75%    53.500000  85.500000\n",
       "max    59.000000  99.000000"
      ]
     },
     "execution_count": 95,
     "metadata": {},
     "output_type": "execute_result"
    }
   ],
   "source": [
    "# Descriptive statistics include those that summarize the central tendency, dispersion and shape of a dataset’s distribution, excluding NaN values\n",
    "df.describe()\n"
   ]
  },
  {
   "cell_type": "code",
   "execution_count": null,
   "id": "4817602e",
   "metadata": {},
   "outputs": [],
   "source": [
    "# to get the idea about nature of data and relationship of variable\n",
    "sns.pairplot(df)"
   ]
  },
  {
   "cell_type": "code",
   "execution_count": 119,
   "id": "aa9f9c60",
   "metadata": {},
   "outputs": [],
   "source": [
    "# need to convert into numpy array \n",
    "x = df.iloc[:,:-1].values # input\n",
    "y = df.iloc[:,1:2].values # output\n"
   ]
  },
  {
   "cell_type": "code",
   "execution_count": 185,
   "id": "2984aae5",
   "metadata": {},
   "outputs": [
    {
     "data": {
      "text/plain": [
       "numpy.ndarray"
      ]
     },
     "execution_count": 185,
     "metadata": {},
     "output_type": "execute_result"
    }
   ],
   "source": [
    "type(x)"
   ]
  },
  {
   "cell_type": "markdown",
   "id": "ac440ce3",
   "metadata": {},
   "source": [
    "## Split into train test sets"
   ]
  },
  {
   "cell_type": "code",
   "execution_count": 161,
   "id": "4d260e16",
   "metadata": {},
   "outputs": [],
   "source": [
    "from sklearn.model_selection import train_test_split\n",
    "x_train, x_test, y_train, y_test = train_test_split(x,y, test_size=0.2,random_state=0)"
   ]
  },
  {
   "cell_type": "code",
   "execution_count": null,
   "id": "55cd77e3",
   "metadata": {},
   "outputs": [],
   "source": []
  },
  {
   "cell_type": "markdown",
   "id": "9c7e209a",
   "metadata": {},
   "source": [
    "# Lets create the model With LR"
   ]
  },
  {
   "cell_type": "code",
   "execution_count": 162,
   "id": "ffc62074",
   "metadata": {},
   "outputs": [],
   "source": [
    "from sklearn.linear_model import LinearRegression"
   ]
  },
  {
   "cell_type": "code",
   "execution_count": 163,
   "id": "56060888",
   "metadata": {},
   "outputs": [],
   "source": [
    "model = LinearRegression().fit(x_train, y_train)"
   ]
  },
  {
   "cell_type": "code",
   "execution_count": 164,
   "id": "ea8f167d",
   "metadata": {},
   "outputs": [
    {
     "data": {
      "text/plain": [
       "array([53.96329928])"
      ]
     },
     "execution_count": 164,
     "metadata": {},
     "output_type": "execute_result"
    }
   ],
   "source": [
    "model.intercept_"
   ]
  },
  {
   "cell_type": "code",
   "execution_count": 165,
   "id": "46eb7103",
   "metadata": {},
   "outputs": [
    {
     "data": {
      "text/plain": [
       "array([[0.67574726]])"
      ]
     },
     "execution_count": 165,
     "metadata": {},
     "output_type": "execute_result"
    }
   ],
   "source": [
    "model.coef_"
   ]
  },
  {
   "cell_type": "code",
   "execution_count": 166,
   "id": "42981c91",
   "metadata": {},
   "outputs": [],
   "source": [
    "y_pred=model.predict(x_test)"
   ]
  },
  {
   "cell_type": "code",
   "execution_count": 167,
   "id": "5b780566",
   "metadata": {},
   "outputs": [
    {
     "data": {
      "text/plain": [
       "array([[93.83238744],\n",
       "       [70.8569807 ]])"
      ]
     },
     "execution_count": 167,
     "metadata": {},
     "output_type": "execute_result"
    }
   ],
   "source": [
    "y_pred"
   ]
  },
  {
   "cell_type": "code",
   "execution_count": 168,
   "id": "5aeb41d2",
   "metadata": {},
   "outputs": [
    {
     "data": {
      "text/plain": [
       "-114.48946531568684"
      ]
     },
     "execution_count": 168,
     "metadata": {},
     "output_type": "execute_result"
    }
   ],
   "source": [
    "from sklearn.metrics import r2_score\n",
    "r2_score(y_test,y_pred)"
   ]
  },
  {
   "cell_type": "code",
   "execution_count": 169,
   "id": "f3865b81",
   "metadata": {},
   "outputs": [
    {
     "data": {
      "text/plain": [
       "0.11546070057427293"
      ]
     },
     "execution_count": 169,
     "metadata": {},
     "output_type": "execute_result"
    }
   ],
   "source": [
    "model.score(x,y)"
   ]
  },
  {
   "cell_type": "code",
   "execution_count": 170,
   "id": "0c145db5",
   "metadata": {},
   "outputs": [
    {
     "data": {
      "text/plain": [
       "array([[70.8569807]])"
      ]
     },
     "execution_count": 170,
     "metadata": {},
     "output_type": "execute_result"
    }
   ],
   "source": [
    "model.predict([[25]])"
   ]
  },
  {
   "cell_type": "code",
   "execution_count": 186,
   "id": "d0cade4c",
   "metadata": {},
   "outputs": [
    {
     "data": {
      "text/plain": [
       "array([[59],\n",
       "       [25]], dtype=int64)"
      ]
     },
     "execution_count": 186,
     "metadata": {},
     "output_type": "execute_result"
    }
   ],
   "source": [
    "x_test"
   ]
  },
  {
   "cell_type": "code",
   "execution_count": 187,
   "id": "abbdf5ed",
   "metadata": {},
   "outputs": [
    {
     "data": {
      "text/plain": [
       "array([[93.83238744],\n",
       "       [70.8569807 ]])"
      ]
     },
     "execution_count": 187,
     "metadata": {},
     "output_type": "execute_result"
    }
   ],
   "source": [
    "model.predict(x_test)"
   ]
  },
  {
   "cell_type": "code",
   "execution_count": null,
   "id": "b3b1165e",
   "metadata": {},
   "outputs": [],
   "source": []
  }
 ],
 "metadata": {
  "kernelspec": {
   "display_name": "Python 3",
   "language": "python",
   "name": "python3"
  },
  "language_info": {
   "codemirror_mode": {
    "name": "ipython",
    "version": 3
   },
   "file_extension": ".py",
   "mimetype": "text/x-python",
   "name": "python",
   "nbconvert_exporter": "python",
   "pygments_lexer": "ipython3",
   "version": "3.7.10"
  }
 },
 "nbformat": 4,
 "nbformat_minor": 5
}
